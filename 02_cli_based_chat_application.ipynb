{
 "cells": [
  {
   "cell_type": "markdown",
   "id": "2b668108",
   "metadata": {},
   "source": [
    "## Receiver.py ##"
   ]
  },
  {
   "cell_type": "code",
   "execution_count": null,
   "id": "7cacd504",
   "metadata": {},
   "outputs": [],
   "source": [
    "import socket\n",
    "try:\n",
    "    # creating socket\n",
    "    s = socket.socket(socket.AF_INET, socket.SOCK_DGRAM)\n",
    "    print(\"Socket was successfully created...\")\n",
    "\n",
    "    # receiver ka ander khudka address ayenga\n",
    "    ip_add = \"172.16.1.153\"\n",
    "    port = 8888\n",
    "    complete_add = (ip_add, port)\n",
    "    s.bind(complete_add)\n",
    "\n",
    "    while True:\n",
    "        message, sender_address = s.recvfrom(1024)\n",
    "\n",
    "        print(\"Raw Message : \",message)\n",
    "        print(\"Sender Address : \",sender_address)\n",
    "\n",
    "        decoded_msg = message.docede(\"ascii\")\n",
    "        print(\"Message\",decoded_msg)\n",
    "\n",
    "\n",
    "except Exception as e:\n",
    "    print(\"Failed to send message : \", e)"
   ]
  },
  {
   "cell_type": "markdown",
   "id": "3c5058fb",
   "metadata": {},
   "source": [
    "## Sender.py ##"
   ]
  },
  {
   "cell_type": "code",
   "execution_count": null,
   "id": "78f9c007",
   "metadata": {},
   "outputs": [],
   "source": [
    "import socket\n",
    "try:\n",
    "    # creating socket\n",
    "    s = socket.socket(socket.AF_INET, socket.SOCK_DGRAM)\n",
    "\n",
    "    # DGRAM --->  refers to datagram-based communication, which is used with UDP (User Datagram Protocol)\n",
    "    # AF_INET ---> is a constant from the socket module that tells the program to use IPv4 addressing\n",
    "    # AF = Address Family,    INET = Internet (IPv4)\n",
    "\n",
    "    print(\"Socket was successfully created...\")\n",
    "\n",
    "    \n",
    "    # sender ka ander samne wale ka address ayenga\n",
    "    ip_add = \"172.16.1.153\"\n",
    "    port = 8888                                        # port range ---> 0 - 65535\n",
    "    target_add = (ip_add, port)\n",
    "    message = input(\"Enter the message : 😊 \")\n",
    "    encoded_msg = message.encode(\"ascii\")\n",
    "    s.sendto(encoded_msg, target_add)\n",
    "    print(\"message was successfully sent\")\n",
    "    s.close()\n",
    "\n",
    "except Exception as e:\n",
    "    print(\"Failed to send message : \", e)"
   ]
  }
 ],
 "metadata": {
  "kernelspec": {
   "display_name": "base",
   "language": "python",
   "name": "python3"
  },
  "language_info": {
   "name": "python",
   "version": "3.12.7"
  }
 },
 "nbformat": 4,
 "nbformat_minor": 5
}
